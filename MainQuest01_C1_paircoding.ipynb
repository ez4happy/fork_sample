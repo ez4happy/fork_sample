{
  "nbformat": 4,
  "nbformat_minor": 0,
  "metadata": {
    "colab": {
      "provenance": [],
      "include_colab_link": true
    },
    "kernelspec": {
      "name": "python3",
      "display_name": "Python 3"
    },
    "language_info": {
      "name": "python"
    }
  },
  "cells": [
    {
      "cell_type": "markdown",
      "metadata": {
        "id": "view-in-github",
        "colab_type": "text"
      },
      "source": [
        "<a href=\"https://colab.research.google.com/github/kakyungkim/first-repository/blob/main/MainQuest01_C1_paircoding.ipynb\" target=\"_parent\"><img src=\"https://colab.research.google.com/assets/colab-badge.svg\" alt=\"Open In Colab\"/></a>"
      ]
    },
    {
      "cell_type": "code",
      "execution_count": 21,
      "metadata": {
        "id": "M1CEm3su8qqo"
      },
      "outputs": [],
      "source": [
        "import random\n",
        "class Account:\n",
        "\n",
        "  count = 0\n",
        "  #count+=1\n",
        "\n",
        "  def __init__(self, depositor, initial_b):\n",
        "    self.bank = \"SC은행\"\n",
        "    #self.depositor = input(\"예금주를 입력하시오\")\n",
        "    #self.initial_b = int(input(\"잔s액을 입력하시오\"))\n",
        "    self.depositor = depositor\n",
        "    self.initial_b = initial_b\n",
        "    self.account_number = self.account_generator()\n",
        "    self.deposit_count = 0\n",
        "\n",
        "    Account.count+=1 #2. 계좌 객체의 개수를 지정하고, 계좌 객체 개수 증가\n",
        "\n",
        "\n",
        "  def account_generator(self):\n",
        "    num1 = random.randint(100, 999)\n",
        "    num2 = random.randint(10,99)\n",
        "    num3 = random.randint(100000,999999)\n",
        "    return f\"{num1}-{num2}-{num3}\"\n",
        "\n",
        "  # 3. Account 클래스로부터 생성된 계좌의 개수를 출력\n",
        "  def get_account_num(cnt):\n",
        "    # print(Account.count)\n",
        "    return cnt.count\n",
        "\n",
        "  # 4. 입금 메서드\n",
        "  def deposit(self, inputmoney):\n",
        "    if int(inputmoney) >=1: #입금은 최소 1원 이상\n",
        "      self.balance += inputmoney\n",
        "      self.deposit_count += 1\n",
        "      # 7. 입금 5회시 이자 지급\n",
        "      if self.deposit_count % 5 == 0:\n",
        "        self.initial_b *= 1.01 # 1% 이자\n",
        "\n",
        "  # 5. 출금 메서드\n",
        "  def withdraw(self, inputmoney):\n",
        "    if inputmoney <= self.balance: #잔고 이하일 때만 출금\n",
        "      self.balance -= inputmoney\n",
        "      # ??\n",
        "    else:\n",
        "      print(\"No remained money!!\")\n",
        "\n",
        "  # 6. 정보 출력 메서드\n",
        "  def display_info(self):\n",
        "    print(\"은행이름:{}, 예금주:{}, 계좌번호:{}, 잔고:{}원\".format(self.bank,self.depositor,self.account_number,self.balance))\n",
        "\n",
        "  # 10. 입금과 출금 내역이 기록되도록 코드를 업데이트\n",
        "  def deposit_history(self):\n",
        "    print(\"\")\n"
      ]
    },
    {
      "cell_type": "code",
      "source": [
        "#deposit=Account()\n",
        "#deposit.account_generator()\n"
      ],
      "metadata": {
        "id": "9NvscG9YH9um",
        "colab": {
          "base_uri": "https://localhost:8080/",
          "height": 162
        },
        "outputId": "6e13bae0-c74a-4384-f74a-e19130302863"
      },
      "execution_count": null,
      "outputs": [
        {
          "output_type": "error",
          "ename": "TypeError",
          "evalue": "Account.__init__() missing 2 required positional arguments: 'depositor' and 'initial_b'",
          "traceback": [
            "\u001b[0;31m---------------------------------------------------------------------------\u001b[0m",
            "\u001b[0;31mTypeError\u001b[0m                                 Traceback (most recent call last)",
            "\u001b[0;32m<ipython-input-11-0ac3ce2149d0>\u001b[0m in \u001b[0;36m<cell line: 1>\u001b[0;34m()\u001b[0m\n\u001b[0;32m----> 1\u001b[0;31m \u001b[0mdeposit\u001b[0m\u001b[0;34m=\u001b[0m\u001b[0mAccount\u001b[0m\u001b[0;34m(\u001b[0m\u001b[0;34m)\u001b[0m\u001b[0;34m\u001b[0m\u001b[0;34m\u001b[0m\u001b[0m\n\u001b[0m\u001b[1;32m      2\u001b[0m \u001b[0mdeposit\u001b[0m\u001b[0;34m.\u001b[0m\u001b[0maccount_generator\u001b[0m\u001b[0;34m(\u001b[0m\u001b[0;34m)\u001b[0m\u001b[0;34m\u001b[0m\u001b[0;34m\u001b[0m\u001b[0m\n",
            "\u001b[0;31mTypeError\u001b[0m: Account.__init__() missing 2 required positional arguments: 'depositor' and 'initial_b'"
          ]
        }
      ]
    },
    {
      "cell_type": "code",
      "source": [
        "# 8. 3개 이상 인스턴스 생성하고...\n",
        "account1 = Account(\"Kakyung\", 10000)\n",
        "account2 = Account(\"ABC\", 100000)\n",
        "account3 = Account(\"DEF\", 1000000)\n",
        "account4 = Account(\"GHI\", 100000000000000)\n",
        "account5 = Account(\"JKL\", 10000000000000000)\n",
        "\n",
        "accounts = [account1, account2, account3, account4, account5]\n"
      ],
      "metadata": {
        "colab": {
          "base_uri": "https://localhost:8080/"
        },
        "id": "uiO1bpEdLVt1",
        "outputId": "37f48c19-a788-4d56-b4d1-b9e7e0683156"
      },
      "execution_count": 22,
      "outputs": [
        {
          "output_type": "execute_result",
          "data": {
            "text/plain": [
              "<__main__.Account at 0x7986d1c56500>"
            ]
          },
          "metadata": {},
          "execution_count": 22
        }
      ]
    },
    {
      "cell_type": "code",
      "source": [
        "# 9. 객체 순회 반복문을 통해 리스트에 있는 객체를 순회하면서 잔고가 100만원 이상인 고객의 정보만 출력\n",
        "for account in accounts:\n",
        "  if account.balance >= 1000000:\n",
        "    account.display_info()"
      ],
      "metadata": {
        "id": "v4AT7Yd_QQ_1"
      },
      "execution_count": null,
      "outputs": []
    },
    {
      "cell_type": "code",
      "source": [],
      "metadata": {
        "id": "Yh4RsZtBQ9ZR"
      },
      "execution_count": null,
      "outputs": []
    },
    {
      "cell_type": "code",
      "source": [],
      "metadata": {
        "id": "XaeFwUBUQY4D"
      },
      "execution_count": null,
      "outputs": []
    }
  ]
}